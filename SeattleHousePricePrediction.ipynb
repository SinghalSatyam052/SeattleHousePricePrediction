{
 "cells": [
  {
   "cell_type": "code",
   "execution_count": 1,
   "id": "25762108",
   "metadata": {},
   "outputs": [],
   "source": [
    "import numpy as np\n",
    "import pandas as pd\n",
    "import seaborn as sns\n",
    "import matplotlib.pyplot as plt\n",
    "%matplotlib inline"
   ]
  },
  {
   "cell_type": "code",
   "execution_count": 2,
   "id": "f6a7e76a",
   "metadata": {},
   "outputs": [
    {
     "data": {
      "text/plain": [
       "'C:\\\\Users\\\\satya\\\\ML Project'"
      ]
     },
     "execution_count": 2,
     "metadata": {},
     "output_type": "execute_result"
    }
   ],
   "source": []
  },
  {
   "cell_type": "code",
   "execution_count": 3,
   "id": "6277cf6b",
   "metadata": {},
   "outputs": [],
   "source": [
    "df = pd.read_csv(r'dataset\\train.csv', parse_dates = True)"
   ]
  },
  {
   "cell_type": "code",
   "execution_count": 4,
   "id": "faaa5784",
   "metadata": {},
   "outputs": [
    {
     "data": {
      "text/html": [
       "<div>\n",
       "<style scoped>\n",
       "    .dataframe tbody tr th:only-of-type {\n",
       "        vertical-align: middle;\n",
       "    }\n",
       "\n",
       "    .dataframe tbody tr th {\n",
       "        vertical-align: top;\n",
       "    }\n",
       "\n",
       "    .dataframe thead th {\n",
       "        text-align: right;\n",
       "    }\n",
       "</style>\n",
       "<table border=\"1\" class=\"dataframe\">\n",
       "  <thead>\n",
       "    <tr style=\"text-align: right;\">\n",
       "      <th></th>\n",
       "      <th>beds</th>\n",
       "      <th>baths</th>\n",
       "      <th>size</th>\n",
       "      <th>size_units</th>\n",
       "      <th>lot_size</th>\n",
       "      <th>lot_size_units</th>\n",
       "      <th>zip_code</th>\n",
       "      <th>price</th>\n",
       "    </tr>\n",
       "  </thead>\n",
       "  <tbody>\n",
       "    <tr>\n",
       "      <th>0</th>\n",
       "      <td>3</td>\n",
       "      <td>2.5</td>\n",
       "      <td>2590.0</td>\n",
       "      <td>sqft</td>\n",
       "      <td>6000.00</td>\n",
       "      <td>sqft</td>\n",
       "      <td>98144</td>\n",
       "      <td>795000.0</td>\n",
       "    </tr>\n",
       "    <tr>\n",
       "      <th>1</th>\n",
       "      <td>4</td>\n",
       "      <td>2.0</td>\n",
       "      <td>2240.0</td>\n",
       "      <td>sqft</td>\n",
       "      <td>0.31</td>\n",
       "      <td>acre</td>\n",
       "      <td>98106</td>\n",
       "      <td>915000.0</td>\n",
       "    </tr>\n",
       "    <tr>\n",
       "      <th>2</th>\n",
       "      <td>4</td>\n",
       "      <td>3.0</td>\n",
       "      <td>2040.0</td>\n",
       "      <td>sqft</td>\n",
       "      <td>3783.00</td>\n",
       "      <td>sqft</td>\n",
       "      <td>98107</td>\n",
       "      <td>950000.0</td>\n",
       "    </tr>\n",
       "    <tr>\n",
       "      <th>3</th>\n",
       "      <td>4</td>\n",
       "      <td>3.0</td>\n",
       "      <td>3800.0</td>\n",
       "      <td>sqft</td>\n",
       "      <td>5175.00</td>\n",
       "      <td>sqft</td>\n",
       "      <td>98199</td>\n",
       "      <td>1950000.0</td>\n",
       "    </tr>\n",
       "    <tr>\n",
       "      <th>4</th>\n",
       "      <td>2</td>\n",
       "      <td>2.0</td>\n",
       "      <td>1042.0</td>\n",
       "      <td>sqft</td>\n",
       "      <td>NaN</td>\n",
       "      <td>NaN</td>\n",
       "      <td>98102</td>\n",
       "      <td>950000.0</td>\n",
       "    </tr>\n",
       "  </tbody>\n",
       "</table>\n",
       "</div>"
      ],
      "text/plain": [
       "   beds  baths    size size_units  lot_size lot_size_units  zip_code  \\\n",
       "0     3    2.5  2590.0       sqft   6000.00           sqft     98144   \n",
       "1     4    2.0  2240.0       sqft      0.31           acre     98106   \n",
       "2     4    3.0  2040.0       sqft   3783.00           sqft     98107   \n",
       "3     4    3.0  3800.0       sqft   5175.00           sqft     98199   \n",
       "4     2    2.0  1042.0       sqft       NaN            NaN     98102   \n",
       "\n",
       "       price  \n",
       "0   795000.0  \n",
       "1   915000.0  \n",
       "2   950000.0  \n",
       "3  1950000.0  \n",
       "4   950000.0  "
      ]
     },
     "execution_count": 4,
     "metadata": {},
     "output_type": "execute_result"
    }
   ],
   "source": [
    "df.head(5)"
   ]
  },
  {
   "cell_type": "code",
   "execution_count": 5,
   "id": "9792e548",
   "metadata": {},
   "outputs": [
    {
     "data": {
      "text/plain": [
       "beds                0\n",
       "baths               0\n",
       "size                0\n",
       "size_units          0\n",
       "lot_size          347\n",
       "lot_size_units    347\n",
       "zip_code            0\n",
       "price               0\n",
       "dtype: int64"
      ]
     },
     "execution_count": 5,
     "metadata": {},
     "output_type": "execute_result"
    }
   ],
   "source": [
    "df.isnull().sum()\n"
   ]
  },
  {
   "cell_type": "code",
   "execution_count": 6,
   "id": "7b23d496",
   "metadata": {},
   "outputs": [
    {
     "data": {
      "text/plain": [
       "(2016, 8)"
      ]
     },
     "execution_count": 6,
     "metadata": {},
     "output_type": "execute_result"
    }
   ],
   "source": [
    "df.shape"
   ]
  },
  {
   "cell_type": "code",
   "execution_count": 7,
   "id": "e5aa0f53",
   "metadata": {},
   "outputs": [],
   "source": [
    "df1 = df"
   ]
  },
  {
   "cell_type": "code",
   "execution_count": 8,
   "id": "0ca8546f",
   "metadata": {},
   "outputs": [
    {
     "data": {
      "text/html": [
       "<div>\n",
       "<style scoped>\n",
       "    .dataframe tbody tr th:only-of-type {\n",
       "        vertical-align: middle;\n",
       "    }\n",
       "\n",
       "    .dataframe tbody tr th {\n",
       "        vertical-align: top;\n",
       "    }\n",
       "\n",
       "    .dataframe thead th {\n",
       "        text-align: right;\n",
       "    }\n",
       "</style>\n",
       "<table border=\"1\" class=\"dataframe\">\n",
       "  <thead>\n",
       "    <tr style=\"text-align: right;\">\n",
       "      <th></th>\n",
       "      <th>beds</th>\n",
       "      <th>baths</th>\n",
       "      <th>size</th>\n",
       "      <th>size_units</th>\n",
       "      <th>lot_size</th>\n",
       "      <th>lot_size_units</th>\n",
       "      <th>zip_code</th>\n",
       "      <th>price</th>\n",
       "    </tr>\n",
       "  </thead>\n",
       "  <tbody>\n",
       "    <tr>\n",
       "      <th>0</th>\n",
       "      <td>3</td>\n",
       "      <td>2.5</td>\n",
       "      <td>2590.0</td>\n",
       "      <td>sqft</td>\n",
       "      <td>6000.00</td>\n",
       "      <td>sqft</td>\n",
       "      <td>98144</td>\n",
       "      <td>795000.0</td>\n",
       "    </tr>\n",
       "    <tr>\n",
       "      <th>1</th>\n",
       "      <td>4</td>\n",
       "      <td>2.0</td>\n",
       "      <td>2240.0</td>\n",
       "      <td>sqft</td>\n",
       "      <td>0.31</td>\n",
       "      <td>acre</td>\n",
       "      <td>98106</td>\n",
       "      <td>915000.0</td>\n",
       "    </tr>\n",
       "    <tr>\n",
       "      <th>2</th>\n",
       "      <td>4</td>\n",
       "      <td>3.0</td>\n",
       "      <td>2040.0</td>\n",
       "      <td>sqft</td>\n",
       "      <td>3783.00</td>\n",
       "      <td>sqft</td>\n",
       "      <td>98107</td>\n",
       "      <td>950000.0</td>\n",
       "    </tr>\n",
       "    <tr>\n",
       "      <th>3</th>\n",
       "      <td>4</td>\n",
       "      <td>3.0</td>\n",
       "      <td>3800.0</td>\n",
       "      <td>sqft</td>\n",
       "      <td>5175.00</td>\n",
       "      <td>sqft</td>\n",
       "      <td>98199</td>\n",
       "      <td>1950000.0</td>\n",
       "    </tr>\n",
       "    <tr>\n",
       "      <th>4</th>\n",
       "      <td>2</td>\n",
       "      <td>2.0</td>\n",
       "      <td>1042.0</td>\n",
       "      <td>sqft</td>\n",
       "      <td>NaN</td>\n",
       "      <td>NaN</td>\n",
       "      <td>98102</td>\n",
       "      <td>950000.0</td>\n",
       "    </tr>\n",
       "    <tr>\n",
       "      <th>...</th>\n",
       "      <td>...</td>\n",
       "      <td>...</td>\n",
       "      <td>...</td>\n",
       "      <td>...</td>\n",
       "      <td>...</td>\n",
       "      <td>...</td>\n",
       "      <td>...</td>\n",
       "      <td>...</td>\n",
       "    </tr>\n",
       "    <tr>\n",
       "      <th>2011</th>\n",
       "      <td>3</td>\n",
       "      <td>2.0</td>\n",
       "      <td>1370.0</td>\n",
       "      <td>sqft</td>\n",
       "      <td>0.50</td>\n",
       "      <td>acre</td>\n",
       "      <td>98112</td>\n",
       "      <td>910000.0</td>\n",
       "    </tr>\n",
       "    <tr>\n",
       "      <th>2012</th>\n",
       "      <td>1</td>\n",
       "      <td>1.0</td>\n",
       "      <td>889.0</td>\n",
       "      <td>sqft</td>\n",
       "      <td>NaN</td>\n",
       "      <td>NaN</td>\n",
       "      <td>98121</td>\n",
       "      <td>550000.0</td>\n",
       "    </tr>\n",
       "    <tr>\n",
       "      <th>2013</th>\n",
       "      <td>4</td>\n",
       "      <td>2.0</td>\n",
       "      <td>2140.0</td>\n",
       "      <td>sqft</td>\n",
       "      <td>6250.00</td>\n",
       "      <td>sqft</td>\n",
       "      <td>98199</td>\n",
       "      <td>1150000.0</td>\n",
       "    </tr>\n",
       "    <tr>\n",
       "      <th>2014</th>\n",
       "      <td>2</td>\n",
       "      <td>2.0</td>\n",
       "      <td>795.0</td>\n",
       "      <td>sqft</td>\n",
       "      <td>NaN</td>\n",
       "      <td>NaN</td>\n",
       "      <td>98103</td>\n",
       "      <td>590000.0</td>\n",
       "    </tr>\n",
       "    <tr>\n",
       "      <th>2015</th>\n",
       "      <td>3</td>\n",
       "      <td>2.0</td>\n",
       "      <td>1710.0</td>\n",
       "      <td>sqft</td>\n",
       "      <td>4267.00</td>\n",
       "      <td>sqft</td>\n",
       "      <td>98133</td>\n",
       "      <td>659000.0</td>\n",
       "    </tr>\n",
       "  </tbody>\n",
       "</table>\n",
       "<p>2016 rows × 8 columns</p>\n",
       "</div>"
      ],
      "text/plain": [
       "      beds  baths    size size_units  lot_size lot_size_units  zip_code  \\\n",
       "0        3    2.5  2590.0       sqft   6000.00           sqft     98144   \n",
       "1        4    2.0  2240.0       sqft      0.31           acre     98106   \n",
       "2        4    3.0  2040.0       sqft   3783.00           sqft     98107   \n",
       "3        4    3.0  3800.0       sqft   5175.00           sqft     98199   \n",
       "4        2    2.0  1042.0       sqft       NaN            NaN     98102   \n",
       "...    ...    ...     ...        ...       ...            ...       ...   \n",
       "2011     3    2.0  1370.0       sqft      0.50           acre     98112   \n",
       "2012     1    1.0   889.0       sqft       NaN            NaN     98121   \n",
       "2013     4    2.0  2140.0       sqft   6250.00           sqft     98199   \n",
       "2014     2    2.0   795.0       sqft       NaN            NaN     98103   \n",
       "2015     3    2.0  1710.0       sqft   4267.00           sqft     98133   \n",
       "\n",
       "          price  \n",
       "0      795000.0  \n",
       "1      915000.0  \n",
       "2      950000.0  \n",
       "3     1950000.0  \n",
       "4      950000.0  \n",
       "...         ...  \n",
       "2011   910000.0  \n",
       "2012   550000.0  \n",
       "2013  1150000.0  \n",
       "2014   590000.0  \n",
       "2015   659000.0  \n",
       "\n",
       "[2016 rows x 8 columns]"
      ]
     },
     "execution_count": 8,
     "metadata": {},
     "output_type": "execute_result"
    }
   ],
   "source": [
    "df1 "
   ]
  },
  {
   "cell_type": "code",
   "execution_count": 9,
   "id": "0667bc93",
   "metadata": {},
   "outputs": [],
   "source": [
    "df1['lot_size'] = df1['lot_size'].fillna(6000)\n"
   ]
  },
  {
   "cell_type": "code",
   "execution_count": 10,
   "id": "ce52b23d",
   "metadata": {},
   "outputs": [],
   "source": [
    "df1['lot_size_units'] = df1['lot_size_units'].fillna(df1['lot_size_units'].mode()[0])\n"
   ]
  },
  {
   "cell_type": "code",
   "execution_count": 11,
   "id": "59b58f99",
   "metadata": {},
   "outputs": [
    {
     "data": {
      "text/plain": [
       "array(['sqft', 'acre'], dtype=object)"
      ]
     },
     "execution_count": 11,
     "metadata": {},
     "output_type": "execute_result"
    }
   ],
   "source": [
    "df1['lot_size_units'].unique()"
   ]
  },
  {
   "cell_type": "code",
   "execution_count": 12,
   "id": "5c3a010a",
   "metadata": {},
   "outputs": [
    {
     "data": {
      "text/plain": [
       "array(['sqft'], dtype=object)"
      ]
     },
     "execution_count": 12,
     "metadata": {},
     "output_type": "execute_result"
    }
   ],
   "source": [
    "df1['size_units'].unique()"
   ]
  },
  {
   "cell_type": "code",
   "execution_count": 13,
   "id": "4f60b83b",
   "metadata": {},
   "outputs": [],
   "source": [
    "\n",
    "df1['lot_size'] = df1.apply(lambda row: row['lot_size'] * 43560 if row['lot_size_units'] == 'acre' else row['lot_size'], axis=1)\n"
   ]
  },
  {
   "cell_type": "code",
   "execution_count": 14,
   "id": "8ef3c19a",
   "metadata": {},
   "outputs": [],
   "source": [
    "df1['price'] = df1.apply(lambda x: x['price'] / 100000, axis=1)\n"
   ]
  },
  {
   "cell_type": "code",
   "execution_count": 15,
   "id": "a744d5b5",
   "metadata": {},
   "outputs": [],
   "source": [
    "df2 = df1"
   ]
  },
  {
   "cell_type": "code",
   "execution_count": 16,
   "id": "7fbbe5bd",
   "metadata": {},
   "outputs": [],
   "source": [
    "df2.rename(columns={'size': 'size(in sqft)'}, inplace=True)\n",
    "df2.rename(columns={'lot_size': 'lot_size(in sqft)'}, inplace=True)\n",
    "df2.rename(columns={'price': 'price(in lacs)'}, inplace=True)"
   ]
  },
  {
   "cell_type": "code",
   "execution_count": 17,
   "id": "34a5f5d1",
   "metadata": {},
   "outputs": [
    {
     "data": {
      "text/html": [
       "<div>\n",
       "<style scoped>\n",
       "    .dataframe tbody tr th:only-of-type {\n",
       "        vertical-align: middle;\n",
       "    }\n",
       "\n",
       "    .dataframe tbody tr th {\n",
       "        vertical-align: top;\n",
       "    }\n",
       "\n",
       "    .dataframe thead th {\n",
       "        text-align: right;\n",
       "    }\n",
       "</style>\n",
       "<table border=\"1\" class=\"dataframe\">\n",
       "  <thead>\n",
       "    <tr style=\"text-align: right;\">\n",
       "      <th></th>\n",
       "      <th>beds</th>\n",
       "      <th>baths</th>\n",
       "      <th>size(in sqft)</th>\n",
       "      <th>size_units</th>\n",
       "      <th>lot_size(in sqft)</th>\n",
       "      <th>lot_size_units</th>\n",
       "      <th>zip_code</th>\n",
       "      <th>price(in lacs)</th>\n",
       "    </tr>\n",
       "  </thead>\n",
       "  <tbody>\n",
       "    <tr>\n",
       "      <th>0</th>\n",
       "      <td>3</td>\n",
       "      <td>2.5</td>\n",
       "      <td>2590.0</td>\n",
       "      <td>sqft</td>\n",
       "      <td>6000.0</td>\n",
       "      <td>sqft</td>\n",
       "      <td>98144</td>\n",
       "      <td>7.95</td>\n",
       "    </tr>\n",
       "    <tr>\n",
       "      <th>1</th>\n",
       "      <td>4</td>\n",
       "      <td>2.0</td>\n",
       "      <td>2240.0</td>\n",
       "      <td>sqft</td>\n",
       "      <td>13503.6</td>\n",
       "      <td>acre</td>\n",
       "      <td>98106</td>\n",
       "      <td>9.15</td>\n",
       "    </tr>\n",
       "    <tr>\n",
       "      <th>2</th>\n",
       "      <td>4</td>\n",
       "      <td>3.0</td>\n",
       "      <td>2040.0</td>\n",
       "      <td>sqft</td>\n",
       "      <td>3783.0</td>\n",
       "      <td>sqft</td>\n",
       "      <td>98107</td>\n",
       "      <td>9.50</td>\n",
       "    </tr>\n",
       "    <tr>\n",
       "      <th>3</th>\n",
       "      <td>4</td>\n",
       "      <td>3.0</td>\n",
       "      <td>3800.0</td>\n",
       "      <td>sqft</td>\n",
       "      <td>5175.0</td>\n",
       "      <td>sqft</td>\n",
       "      <td>98199</td>\n",
       "      <td>19.50</td>\n",
       "    </tr>\n",
       "    <tr>\n",
       "      <th>4</th>\n",
       "      <td>2</td>\n",
       "      <td>2.0</td>\n",
       "      <td>1042.0</td>\n",
       "      <td>sqft</td>\n",
       "      <td>6000.0</td>\n",
       "      <td>sqft</td>\n",
       "      <td>98102</td>\n",
       "      <td>9.50</td>\n",
       "    </tr>\n",
       "    <tr>\n",
       "      <th>...</th>\n",
       "      <td>...</td>\n",
       "      <td>...</td>\n",
       "      <td>...</td>\n",
       "      <td>...</td>\n",
       "      <td>...</td>\n",
       "      <td>...</td>\n",
       "      <td>...</td>\n",
       "      <td>...</td>\n",
       "    </tr>\n",
       "    <tr>\n",
       "      <th>2011</th>\n",
       "      <td>3</td>\n",
       "      <td>2.0</td>\n",
       "      <td>1370.0</td>\n",
       "      <td>sqft</td>\n",
       "      <td>21780.0</td>\n",
       "      <td>acre</td>\n",
       "      <td>98112</td>\n",
       "      <td>9.10</td>\n",
       "    </tr>\n",
       "    <tr>\n",
       "      <th>2012</th>\n",
       "      <td>1</td>\n",
       "      <td>1.0</td>\n",
       "      <td>889.0</td>\n",
       "      <td>sqft</td>\n",
       "      <td>6000.0</td>\n",
       "      <td>sqft</td>\n",
       "      <td>98121</td>\n",
       "      <td>5.50</td>\n",
       "    </tr>\n",
       "    <tr>\n",
       "      <th>2013</th>\n",
       "      <td>4</td>\n",
       "      <td>2.0</td>\n",
       "      <td>2140.0</td>\n",
       "      <td>sqft</td>\n",
       "      <td>6250.0</td>\n",
       "      <td>sqft</td>\n",
       "      <td>98199</td>\n",
       "      <td>11.50</td>\n",
       "    </tr>\n",
       "    <tr>\n",
       "      <th>2014</th>\n",
       "      <td>2</td>\n",
       "      <td>2.0</td>\n",
       "      <td>795.0</td>\n",
       "      <td>sqft</td>\n",
       "      <td>6000.0</td>\n",
       "      <td>sqft</td>\n",
       "      <td>98103</td>\n",
       "      <td>5.90</td>\n",
       "    </tr>\n",
       "    <tr>\n",
       "      <th>2015</th>\n",
       "      <td>3</td>\n",
       "      <td>2.0</td>\n",
       "      <td>1710.0</td>\n",
       "      <td>sqft</td>\n",
       "      <td>4267.0</td>\n",
       "      <td>sqft</td>\n",
       "      <td>98133</td>\n",
       "      <td>6.59</td>\n",
       "    </tr>\n",
       "  </tbody>\n",
       "</table>\n",
       "<p>2016 rows × 8 columns</p>\n",
       "</div>"
      ],
      "text/plain": [
       "      beds  baths  size(in sqft) size_units  lot_size(in sqft) lot_size_units  \\\n",
       "0        3    2.5         2590.0       sqft             6000.0           sqft   \n",
       "1        4    2.0         2240.0       sqft            13503.6           acre   \n",
       "2        4    3.0         2040.0       sqft             3783.0           sqft   \n",
       "3        4    3.0         3800.0       sqft             5175.0           sqft   \n",
       "4        2    2.0         1042.0       sqft             6000.0           sqft   \n",
       "...    ...    ...            ...        ...                ...            ...   \n",
       "2011     3    2.0         1370.0       sqft            21780.0           acre   \n",
       "2012     1    1.0          889.0       sqft             6000.0           sqft   \n",
       "2013     4    2.0         2140.0       sqft             6250.0           sqft   \n",
       "2014     2    2.0          795.0       sqft             6000.0           sqft   \n",
       "2015     3    2.0         1710.0       sqft             4267.0           sqft   \n",
       "\n",
       "      zip_code  price(in lacs)  \n",
       "0        98144            7.95  \n",
       "1        98106            9.15  \n",
       "2        98107            9.50  \n",
       "3        98199           19.50  \n",
       "4        98102            9.50  \n",
       "...        ...             ...  \n",
       "2011     98112            9.10  \n",
       "2012     98121            5.50  \n",
       "2013     98199           11.50  \n",
       "2014     98103            5.90  \n",
       "2015     98133            6.59  \n",
       "\n",
       "[2016 rows x 8 columns]"
      ]
     },
     "execution_count": 17,
     "metadata": {},
     "output_type": "execute_result"
    }
   ],
   "source": [
    "df2"
   ]
  },
  {
   "cell_type": "code",
   "execution_count": 18,
   "id": "f63b1d5b",
   "metadata": {},
   "outputs": [],
   "source": [
    "df2.drop(['size_units','lot_size_units'], axis=1, inplace=True)\n"
   ]
  },
  {
   "cell_type": "code",
   "execution_count": 19,
   "id": "16ed919e",
   "metadata": {},
   "outputs": [],
   "source": [
    "#INDEPENDENT AND DEPENDENT FEATURES\n",
    "\n",
    "# First DataFrame with all columns except the last\n",
    "X = df2.iloc[:, :-1]\n",
    "\n",
    "# Second DataFrame with only the last column\n",
    "y = df2.iloc[:, -1]\n"
   ]
  },
  {
   "cell_type": "code",
   "execution_count": 20,
   "id": "9e593748",
   "metadata": {},
   "outputs": [
    {
     "data": {
      "text/html": [
       "<div>\n",
       "<style scoped>\n",
       "    .dataframe tbody tr th:only-of-type {\n",
       "        vertical-align: middle;\n",
       "    }\n",
       "\n",
       "    .dataframe tbody tr th {\n",
       "        vertical-align: top;\n",
       "    }\n",
       "\n",
       "    .dataframe thead th {\n",
       "        text-align: right;\n",
       "    }\n",
       "</style>\n",
       "<table border=\"1\" class=\"dataframe\">\n",
       "  <thead>\n",
       "    <tr style=\"text-align: right;\">\n",
       "      <th></th>\n",
       "      <th>beds</th>\n",
       "      <th>baths</th>\n",
       "      <th>size(in sqft)</th>\n",
       "      <th>lot_size(in sqft)</th>\n",
       "      <th>zip_code</th>\n",
       "    </tr>\n",
       "  </thead>\n",
       "  <tbody>\n",
       "    <tr>\n",
       "      <th>0</th>\n",
       "      <td>3</td>\n",
       "      <td>2.5</td>\n",
       "      <td>2590.0</td>\n",
       "      <td>6000.0</td>\n",
       "      <td>98144</td>\n",
       "    </tr>\n",
       "    <tr>\n",
       "      <th>1</th>\n",
       "      <td>4</td>\n",
       "      <td>2.0</td>\n",
       "      <td>2240.0</td>\n",
       "      <td>13503.6</td>\n",
       "      <td>98106</td>\n",
       "    </tr>\n",
       "    <tr>\n",
       "      <th>2</th>\n",
       "      <td>4</td>\n",
       "      <td>3.0</td>\n",
       "      <td>2040.0</td>\n",
       "      <td>3783.0</td>\n",
       "      <td>98107</td>\n",
       "    </tr>\n",
       "    <tr>\n",
       "      <th>3</th>\n",
       "      <td>4</td>\n",
       "      <td>3.0</td>\n",
       "      <td>3800.0</td>\n",
       "      <td>5175.0</td>\n",
       "      <td>98199</td>\n",
       "    </tr>\n",
       "    <tr>\n",
       "      <th>4</th>\n",
       "      <td>2</td>\n",
       "      <td>2.0</td>\n",
       "      <td>1042.0</td>\n",
       "      <td>6000.0</td>\n",
       "      <td>98102</td>\n",
       "    </tr>\n",
       "    <tr>\n",
       "      <th>...</th>\n",
       "      <td>...</td>\n",
       "      <td>...</td>\n",
       "      <td>...</td>\n",
       "      <td>...</td>\n",
       "      <td>...</td>\n",
       "    </tr>\n",
       "    <tr>\n",
       "      <th>2011</th>\n",
       "      <td>3</td>\n",
       "      <td>2.0</td>\n",
       "      <td>1370.0</td>\n",
       "      <td>21780.0</td>\n",
       "      <td>98112</td>\n",
       "    </tr>\n",
       "    <tr>\n",
       "      <th>2012</th>\n",
       "      <td>1</td>\n",
       "      <td>1.0</td>\n",
       "      <td>889.0</td>\n",
       "      <td>6000.0</td>\n",
       "      <td>98121</td>\n",
       "    </tr>\n",
       "    <tr>\n",
       "      <th>2013</th>\n",
       "      <td>4</td>\n",
       "      <td>2.0</td>\n",
       "      <td>2140.0</td>\n",
       "      <td>6250.0</td>\n",
       "      <td>98199</td>\n",
       "    </tr>\n",
       "    <tr>\n",
       "      <th>2014</th>\n",
       "      <td>2</td>\n",
       "      <td>2.0</td>\n",
       "      <td>795.0</td>\n",
       "      <td>6000.0</td>\n",
       "      <td>98103</td>\n",
       "    </tr>\n",
       "    <tr>\n",
       "      <th>2015</th>\n",
       "      <td>3</td>\n",
       "      <td>2.0</td>\n",
       "      <td>1710.0</td>\n",
       "      <td>4267.0</td>\n",
       "      <td>98133</td>\n",
       "    </tr>\n",
       "  </tbody>\n",
       "</table>\n",
       "<p>2016 rows × 5 columns</p>\n",
       "</div>"
      ],
      "text/plain": [
       "      beds  baths  size(in sqft)  lot_size(in sqft)  zip_code\n",
       "0        3    2.5         2590.0             6000.0     98144\n",
       "1        4    2.0         2240.0            13503.6     98106\n",
       "2        4    3.0         2040.0             3783.0     98107\n",
       "3        4    3.0         3800.0             5175.0     98199\n",
       "4        2    2.0         1042.0             6000.0     98102\n",
       "...    ...    ...            ...                ...       ...\n",
       "2011     3    2.0         1370.0            21780.0     98112\n",
       "2012     1    1.0          889.0             6000.0     98121\n",
       "2013     4    2.0         2140.0             6250.0     98199\n",
       "2014     2    2.0          795.0             6000.0     98103\n",
       "2015     3    2.0         1710.0             4267.0     98133\n",
       "\n",
       "[2016 rows x 5 columns]"
      ]
     },
     "execution_count": 20,
     "metadata": {},
     "output_type": "execute_result"
    }
   ],
   "source": [
    "X\n"
   ]
  },
  {
   "cell_type": "code",
   "execution_count": 21,
   "id": "9d856c77",
   "metadata": {},
   "outputs": [
    {
     "data": {
      "text/plain": [
       "0        7.95\n",
       "1        9.15\n",
       "2        9.50\n",
       "3       19.50\n",
       "4        9.50\n",
       "        ...  \n",
       "2011     9.10\n",
       "2012     5.50\n",
       "2013    11.50\n",
       "2014     5.90\n",
       "2015     6.59\n",
       "Name: price(in lacs), Length: 2016, dtype: float64"
      ]
     },
     "execution_count": 21,
     "metadata": {},
     "output_type": "execute_result"
    }
   ],
   "source": [
    "y"
   ]
  },
  {
   "cell_type": "code",
   "execution_count": 22,
   "id": "002d3635",
   "metadata": {},
   "outputs": [
    {
     "data": {
      "text/plain": [
       "74"
      ]
     },
     "execution_count": 22,
     "metadata": {},
     "output_type": "execute_result"
    }
   ],
   "source": [
    "X['beds'].unique().sum()"
   ]
  },
  {
   "cell_type": "code",
   "execution_count": 23,
   "id": "892df540",
   "metadata": {},
   "outputs": [
    {
     "data": {
      "text/plain": [
       "<matplotlib.collections.PathCollection at 0x1523f429510>"
      ]
     },
     "execution_count": 23,
     "metadata": {},
     "output_type": "execute_result"
    },
    {
     "data": {
      "image/png": "[encoded data removed]",
      "text/plain": [
       "<Figure size 640x480 with 1 Axes>"
      ]
     },
     "metadata": {},
     "output_type": "display_data"
    }
   ],
   "source": [
    "plt.scatter(X['beds'], y)"
   ]
  },
  {
   "cell_type": "code",
   "execution_count": 24,
   "id": "d557fd07",
   "metadata": {},
   "outputs": [
    {
     "name": "stdout",
     "output_type": "stream",
     "text": [
      "Correlation coefficient: 0.2935156200327486\n"
     ]
    }
   ],
   "source": [
    "correlation = X['beds'].corr(y)\n",
    "print(f'Correlation coefficient: {correlation}')"
   ]
  },
  {
   "cell_type": "code",
   "execution_count": 25,
   "id": "42d3e6f0",
   "metadata": {},
   "outputs": [
    {
     "data": {
      "text/plain": [
       "<matplotlib.collections.PathCollection at 0x1523f60f6d0>"
      ]
     },
     "execution_count": 25,
     "metadata": {},
     "output_type": "execute_result"
    },
    {
     "data": {
      "image/png": "[encoded data removed]",
      "text/plain": [
       "<Figure size 640x480 with 1 Axes>"
      ]
     },
     "metadata": {},
     "output_type": "display_data"
    }
   ],
   "source": [
    "plt.scatter(X['baths'], y)"
   ]
  },
  {
   "cell_type": "code",
   "execution_count": 26,
   "id": "26736d20",
   "metadata": {},
   "outputs": [
    {
     "data": {
      "text/html": [
       "<div>\n",
       "<style scoped>\n",
       "    .dataframe tbody tr th:only-of-type {\n",
       "        vertical-align: middle;\n",
       "    }\n",
       "\n",
       "    .dataframe tbody tr th {\n",
       "        vertical-align: top;\n",
       "    }\n",
       "\n",
       "    .dataframe thead th {\n",
       "        text-align: right;\n",
       "    }\n",
       "</style>\n",
       "<table border=\"1\" class=\"dataframe\">\n",
       "  <thead>\n",
       "    <tr style=\"text-align: right;\">\n",
       "      <th></th>\n",
       "      <th>beds</th>\n",
       "      <th>baths</th>\n",
       "      <th>size(in sqft)</th>\n",
       "      <th>lot_size(in sqft)</th>\n",
       "      <th>zip_code</th>\n",
       "      <th>price(in lacs)</th>\n",
       "    </tr>\n",
       "  </thead>\n",
       "  <tbody>\n",
       "    <tr>\n",
       "      <th>beds</th>\n",
       "      <td>1.000000</td>\n",
       "      <td>0.652853</td>\n",
       "      <td>0.771929</td>\n",
       "      <td>-0.051159</td>\n",
       "      <td>0.077811</td>\n",
       "      <td>0.293516</td>\n",
       "    </tr>\n",
       "    <tr>\n",
       "      <th>baths</th>\n",
       "      <td>0.652853</td>\n",
       "      <td>1.000000</td>\n",
       "      <td>0.667655</td>\n",
       "      <td>-0.038675</td>\n",
       "      <td>-0.002679</td>\n",
       "      <td>0.317325</td>\n",
       "    </tr>\n",
       "    <tr>\n",
       "      <th>size(in sqft)</th>\n",
       "      <td>0.771929</td>\n",
       "      <td>0.667655</td>\n",
       "      <td>1.000000</td>\n",
       "      <td>-0.047801</td>\n",
       "      <td>0.070557</td>\n",
       "      <td>0.444140</td>\n",
       "    </tr>\n",
       "    <tr>\n",
       "      <th>lot_size(in sqft)</th>\n",
       "      <td>-0.051159</td>\n",
       "      <td>-0.038675</td>\n",
       "      <td>-0.047801</td>\n",
       "      <td>1.000000</td>\n",
       "      <td>-0.023780</td>\n",
       "      <td>-0.025047</td>\n",
       "    </tr>\n",
       "    <tr>\n",
       "      <th>zip_code</th>\n",
       "      <td>0.077811</td>\n",
       "      <td>-0.002679</td>\n",
       "      <td>0.070557</td>\n",
       "      <td>-0.023780</td>\n",
       "      <td>1.000000</td>\n",
       "      <td>-0.047189</td>\n",
       "    </tr>\n",
       "    <tr>\n",
       "      <th>price(in lacs)</th>\n",
       "      <td>0.293516</td>\n",
       "      <td>0.317325</td>\n",
       "      <td>0.444140</td>\n",
       "      <td>-0.025047</td>\n",
       "      <td>-0.047189</td>\n",
       "      <td>1.000000</td>\n",
       "    </tr>\n",
       "  </tbody>\n",
       "</table>\n",
       "</div>"
      ],
      "text/plain": [
       "                       beds     baths  size(in sqft)  lot_size(in sqft)  \\\n",
       "beds               1.000000  0.652853       0.771929          -0.051159   \n",
       "baths              0.652853  1.000000       0.667655          -0.038675   \n",
       "size(in sqft)      0.771929  0.667655       1.000000          -0.047801   \n",
       "lot_size(in sqft) -0.051159 -0.038675      -0.047801           1.000000   \n",
       "zip_code           0.077811 -0.002679       0.070557          -0.023780   \n",
       "price(in lacs)     0.293516  0.317325       0.444140          -0.025047   \n",
       "\n",
       "                   zip_code  price(in lacs)  \n",
       "beds               0.077811        0.293516  \n",
       "baths             -0.002679        0.317325  \n",
       "size(in sqft)      0.070557        0.444140  \n",
       "lot_size(in sqft) -0.023780       -0.025047  \n",
       "zip_code           1.000000       -0.047189  \n",
       "price(in lacs)    -0.047189        1.000000  "
      ]
     },
     "execution_count": 26,
     "metadata": {},
     "output_type": "execute_result"
    }
   ],
   "source": [
    "df2.corr()"
   ]
  },
  {
   "cell_type": "code",
   "execution_count": 27,
   "id": "1c888efc",
   "metadata": {},
   "outputs": [
    {
     "name": "stderr",
     "output_type": "stream",
     "text": [
      "C:\\Users\\satya\\anaconda3\\Lib\\site-packages\\seaborn\\_oldcore.py:1119: FutureWarning: use_inf_as_na option is deprecated and will be removed in a future version. Convert inf values to NaN before operating instead.\n",
      "  with pd.option_context('mode.use_inf_as_na', True):\n",
      "C:\\Users\\satya\\anaconda3\\Lib\\site-packages\\seaborn\\_oldcore.py:1119: FutureWarning: use_inf_as_na option is deprecated and will be removed in a future version. Convert inf values to NaN before operating instead.\n",
      "  with pd.option_context('mode.use_inf_as_na', True):\n",
      "C:\\Users\\satya\\anaconda3\\Lib\\site-packages\\seaborn\\_oldcore.py:1119: FutureWarning: use_inf_as_na option is deprecated and will be removed in a future version. Convert inf values to NaN before operating instead.\n",
      "  with pd.option_context('mode.use_inf_as_na', True):\n",
      "C:\\Users\\satya\\anaconda3\\Lib\\site-packages\\seaborn\\_oldcore.py:1119: FutureWarning: use_inf_as_na option is deprecated and will be removed in a future version. Convert inf values to NaN before operating instead.\n",
      "  with pd.option_context('mode.use_inf_as_na', True):\n",
      "C:\\Users\\satya\\anaconda3\\Lib\\site-packages\\seaborn\\_oldcore.py:1119: FutureWarning: use_inf_as_na option is deprecated and will be removed in a future version. Convert inf values to NaN before operating instead.\n",
      "  with pd.option_context('mode.use_inf_as_na', True):\n"
     ]
    },
    {
     "data": {
      "text/plain": [
       "<Axes: xlabel='price(in lacs)', ylabel='Count'>"
      ]
     },
     "execution_count": 27,
     "metadata": {},
     "output_type": "execute_result"
    },
    {
     "data": {
      "image/png": "[encoded data removed]",
      "text/plain": [
       "<Figure size 2500x2000 with 5 Axes>"
      ]
     },
     "metadata": {},
     "output_type": "display_data"
    }
   ],
   "source": [
    "plt.figure(figsize = (25,20))\n",
    "sns.set(color_codes = True)\n",
    "\n",
    "plt.subplot(3,2,1)\n",
    "sns.histplot(df2['beds'], kde = False)\n",
    "\n",
    "plt.subplot(3,2,2)\n",
    "sns.histplot(df2['baths'], kde = False)\n",
    "\n",
    "plt.subplot(3,2,3)\n",
    "sns.histplot(df2['lot_size(in sqft)'], kde = False)\n",
    "\n",
    "plt.subplot(3,2,4)\n",
    "sns.histplot(df2['size(in sqft)'], kde = False)\n",
    "\n",
    "plt.subplot(3,2,5)\n",
    "sns.histplot(df2['price(in lacs)'], kde = False)"
   ]
  },
  {
   "cell_type": "code",
   "execution_count": 28,
   "id": "0087ff51",
   "metadata": {},
   "outputs": [
    {
     "data": {
      "text/plain": [
       "<Axes: xlabel='beds', ylabel='price(in lacs)'>"
      ]
     },
     "execution_count": 28,
     "metadata": {},
     "output_type": "execute_result"
    },
    {
     "data": {
      "image/png": "[encoded data removed]",
      "text/plain": [
       "<Figure size 640x480 with 1 Axes>"
      ]
     },
     "metadata": {},
     "output_type": "display_data"
    }
   ],
   "source": [
    "sns.regplot(x = 'beds',y = 'price(in lacs)',data = df2)"
   ]
  },
  {
   "cell_type": "code",
   "execution_count": 29,
   "id": "ebdeb4a3",
   "metadata": {},
   "outputs": [
    {
     "data": {
      "text/plain": [
       "<Axes: xlabel='baths', ylabel='price(in lacs)'>"
      ]
     },
     "execution_count": 29,
     "metadata": {},
     "output_type": "execute_result"
    },
    {
     "data": {
      "image/png": "[encoded data removed]",
      "text/plain": [
       "<Figure size 640x480 with 1 Axes>"
      ]
     },
     "metadata": {},
     "output_type": "display_data"
    }
   ],
   "source": [
    "sns.regplot(x = 'baths',y = 'price(in lacs)',data = df2)"
   ]
  },
  {
   "cell_type": "code",
   "execution_count": 30,
   "id": "da74011d",
   "metadata": {},
   "outputs": [
    {
     "data": {
      "text/plain": [
       "<Axes: xlabel='zip_code', ylabel='price(in lacs)'>"
      ]
     },
     "execution_count": 30,
     "metadata": {},
     "output_type": "execute_result"
    },
    {
     "data": {
      "image/png": "[encoded data removed]",
      "text/plain": [
       "<Figure size 640x480 with 1 Axes>"
      ]
     },
     "metadata": {},
     "output_type": "display_data"
    }
   ],
   "source": [
    "sns.regplot(x = 'zip_code',y = 'price(in lacs)',data = df2)"
   ]
  },
  {
   "cell_type": "code",
   "execution_count": 31,
   "id": "d566abda",
   "metadata": {},
   "outputs": [],
   "source": [
    "#Standardise the dataset\n",
    "#why we stadardise the dataset\n",
    "#becaause in lin reg we apply graadient descent ... our main aim is to reach the global minima\n",
    "#so we standardise to make all the independent features to a single scale so that the process becomes faster\n",
    "\n",
    "from sklearn.preprocessing import StandardScaler\n",
    "scalar = StandardScaler()"
   ]
  },
  {
   "cell_type": "code",
   "execution_count": 32,
   "id": "08ef0e9c",
   "metadata": {},
   "outputs": [],
   "source": [
    "X = scalar.fit_transform(X)"
   ]
  },
  {
   "cell_type": "code",
   "execution_count": 33,
   "id": "5c8534c6",
   "metadata": {},
   "outputs": [
    {
     "data": {
      "text/html": [
       "<style>#sk-container-id-1 {color: black;background-color: white;}#sk-container-id-1 pre{padding: 0;}#sk-container-id-1 div.sk-toggleable {background-color: white;}#sk-container-id-1 label.sk-toggleable__label {cursor: pointer;display: block;width: 100%;margin-bottom: 0;padding: 0.3em;box-sizing: border-box;text-align: center;}#sk-container-id-1 label.sk-toggleable__label-arrow:before {content: \"▸\";float: left;margin-right: 0.25em;color: #696969;}#sk-container-id-1 label.sk-toggleable__label-arrow:hover:before {color: black;}#sk-container-id-1 div.sk-estimator:hover label.sk-toggleable__label-arrow:before {color: black;}#sk-container-id-1 div.sk-toggleable__content {max-height: 0;max-width: 0;overflow: hidden;text-align: left;background-color: #f0f8ff;}#sk-container-id-1 div.sk-toggleable__content pre {margin: 0.2em;color: black;border-radius: 0.25em;background-color: #f0f8ff;}#sk-container-id-1 input.sk-toggleable__control:checked~div.sk-toggleable__content {max-height: 200px;max-width: 100%;overflow: auto;}#sk-container-id-1 input.sk-toggleable__control:checked~label.sk-toggleable__label-arrow:before {content: \"▾\";}#sk-container-id-1 div.sk-estimator input.sk-toggleable__control:checked~label.sk-toggleable__label {background-color: #d4ebff;}#sk-container-id-1 div.sk-label input.sk-toggleable__control:checked~label.sk-toggleable__label {background-color: #d4ebff;}#sk-container-id-1 input.sk-hidden--visually {border: 0;clip: rect(1px 1px 1px 1px);clip: rect(1px, 1px, 1px, 1px);height: 1px;margin: -1px;overflow: hidden;padding: 0;position: absolute;width: 1px;}#sk-container-id-1 div.sk-estimator {font-family: monospace;background-color: #f0f8ff;border: 1px dotted black;border-radius: 0.25em;box-sizing: border-box;margin-bottom: 0.5em;}#sk-container-id-1 div.sk-estimator:hover {background-color: #d4ebff;}#sk-container-id-1 div.sk-parallel-item::after {content: \"\";width: 100%;border-bottom: 1px solid gray;flex-grow: 1;}#sk-container-id-1 div.sk-label:hover label.sk-toggleable__label {background-color: #d4ebff;}#sk-container-id-1 div.sk-serial::before {content: \"\";position: absolute;border-left: 1px solid gray;box-sizing: border-box;top: 0;bottom: 0;left: 50%;z-index: 0;}#sk-container-id-1 div.sk-serial {display: flex;flex-direction: column;align-items: center;background-color: white;padding-right: 0.2em;padding-left: 0.2em;position: relative;}#sk-container-id-1 div.sk-item {position: relative;z-index: 1;}#sk-container-id-1 div.sk-parallel {display: flex;align-items: stretch;justify-content: center;background-color: white;position: relative;}#sk-container-id-1 div.sk-item::before, #sk-container-id-1 div.sk-parallel-item::before {content: \"\";position: absolute;border-left: 1px solid gray;box-sizing: border-box;top: 0;bottom: 0;left: 50%;z-index: -1;}#sk-container-id-1 div.sk-parallel-item {display: flex;flex-direction: column;z-index: 1;position: relative;background-color: white;}#sk-container-id-1 div.sk-parallel-item:first-child::after {align-self: flex-end;width: 50%;}#sk-container-id-1 div.sk-parallel-item:last-child::after {align-self: flex-start;width: 50%;}#sk-container-id-1 div.sk-parallel-item:only-child::after {width: 0;}#sk-container-id-1 div.sk-dashed-wrapped {border: 1px dashed gray;margin: 0 0.4em 0.5em 0.4em;box-sizing: border-box;padding-bottom: 0.4em;background-color: white;}#sk-container-id-1 div.sk-label label {font-family: monospace;font-weight: bold;display: inline-block;line-height: 1.2em;}#sk-container-id-1 div.sk-label-container {text-align: center;}#sk-container-id-1 div.sk-container {/* jupyter's `normalize.less` sets `[hidden] { display: none; }` but bootstrap.min.css set `[hidden] { display: none !important; }` so we also need the `!important` here to be able to override the default hidden behavior on the sphinx rendered scikit-learn.org. See: https://github.com/scikit-learn/scikit-learn/issues/21755 */display: inline-block !important;position: relative;}#sk-container-id-1 div.sk-text-repr-fallback {display: none;}</style><div id=\"sk-container-id-1\" class=\"sk-top-container\"><div class=\"sk-text-repr-fallback\"><pre>LinearRegression()</pre><b>In a Jupyter environment, please rerun this cell to show the HTML representation or trust the notebook. <br />On GitHub, the HTML representation is unable to render, please try loading this page with nbviewer.org.</b></div><div class=\"sk-container\" hidden><div class=\"sk-item\"><div class=\"sk-estimator sk-toggleable\"><input class=\"sk-toggleable__control sk-hidden--visually\" id=\"sk-estimator-id-1\" type=\"checkbox\" checked><label for=\"sk-estimator-id-1\" class=\"sk-toggleable__label sk-toggleable__label-arrow\">LinearRegression</label><div class=\"sk-toggleable__content\"><pre>LinearRegression()</pre></div></div></div></div></div>"
      ],
      "text/plain": [
       "LinearRegression()"
      ]
     },
     "execution_count": 33,
     "metadata": {},
     "output_type": "execute_result"
    }
   ],
   "source": [
    "from sklearn.linear_model import LinearRegression\n",
    "from sklearn.model_selection import cross_val_score\n",
    "lin_reg = LinearRegression()\n",
    "lin_reg.fit(X,y)"
   ]
  },
  {
   "cell_type": "code",
   "execution_count": 34,
   "id": "e3738261",
   "metadata": {},
   "outputs": [
    {
     "name": "stdout",
     "output_type": "stream",
     "text": [
      "[-1.32604089  0.62075914  4.84638753 -0.06484453 -0.68403598]\n",
      "9.636252247023759\n"
     ]
    }
   ],
   "source": [
    "#print coeff and inteercept\n",
    "print(lin_reg.coef_)\n",
    "print(lin_reg.intercept_)"
   ]
  },
  {
   "cell_type": "code",
   "execution_count": 35,
   "id": "7cebf329",
   "metadata": {},
   "outputs": [
    {
     "name": "stdout",
     "output_type": "stream",
     "text": [
      "{'copy_X': True, 'fit_intercept': True, 'n_jobs': None, 'positive': False}\n"
     ]
    }
   ],
   "source": [
    "#ON which parameters the model is trained\n",
    "print(lin_reg.get_params())"
   ]
  },
  {
   "cell_type": "code",
   "execution_count": 36,
   "id": "fc2a3d32",
   "metadata": {},
   "outputs": [],
   "source": [
    "#Prediction with test dATA\n",
    "pred = lin_reg.predict(X)"
   ]
  },
  {
   "cell_type": "code",
   "execution_count": 37,
   "id": "696a34ec",
   "metadata": {},
   "outputs": [
    {
     "data": {
      "text/plain": [
       "<matplotlib.collections.PathCollection at 0x1524e6b9d50>"
      ]
     },
     "execution_count": 37,
     "metadata": {},
     "output_type": "execute_result"
    },
    {
     "data": {
      "image/png": "[encoded data removed]",
      "text/plain": [
       "<Figure size 640x480 with 1 Axes>"
      ]
     },
     "metadata": {},
     "output_type": "display_data"
    }
   ],
   "source": [
    "plt.scatter(pred,y)"
   ]
  },
  {
   "cell_type": "code",
   "execution_count": 38,
   "id": "fe91d647",
   "metadata": {},
   "outputs": [],
   "source": [
    "residual = y-pred"
   ]
  },
  {
   "cell_type": "code",
   "execution_count": 39,
   "id": "e1d77628",
   "metadata": {},
   "outputs": [
    {
     "name": "stderr",
     "output_type": "stream",
     "text": [
      "C:\\Users\\satya\\anaconda3\\Lib\\site-packages\\seaborn\\_oldcore.py:1119: FutureWarning: use_inf_as_na option is deprecated and will be removed in a future version. Convert inf values to NaN before operating instead.\n",
      "  with pd.option_context('mode.use_inf_as_na', True):\n"
     ]
    },
    {
     "data": {
      "text/plain": [
       "<seaborn.axisgrid.FacetGrid at 0x1524e6b9c10>"
      ]
     },
     "execution_count": 39,
     "metadata": {},
     "output_type": "execute_result"
    },
    {
     "data": {
      "image/png": "[encoded data removed]",
      "text/plain": [
       "<Figure size 500x500 with 1 Axes>"
      ]
     },
     "metadata": {},
     "output_type": "display_data"
    }
   ],
   "source": [
    "#plot residual-- must be normal distributed\n",
    "sns.displot(residual,kind = \"kde\")"
   ]
  },
  {
   "cell_type": "code",
   "execution_count": 40,
   "id": "a8835d50",
   "metadata": {},
   "outputs": [
    {
     "data": {
      "text/plain": [
       "<matplotlib.collections.PathCollection at 0x1524ea43e10>"
      ]
     },
     "execution_count": 40,
     "metadata": {},
     "output_type": "execute_result"
    },
    {
     "data": {
      "image/png": "[encoded data removed]",
      "text/plain": [
       "<Figure size 640x480 with 1 Axes>"
      ]
     },
     "metadata": {},
     "output_type": "display_data"
    }
   ],
   "source": [
    "plt.scatter(pred,residual)\n",
    "#must be uniform distribution"
   ]
  },
  {
   "cell_type": "code",
   "execution_count": 41,
   "id": "1594d005",
   "metadata": {},
   "outputs": [
    {
     "name": "stdout",
     "output_type": "stream",
     "text": [
      "8.382447330438241\n",
      "2.541008921703785\n"
     ]
    }
   ],
   "source": [
    "from sklearn.metrics import mean_absolute_error\n",
    "from sklearn.metrics import mean_squared_error\n",
    "print(np.sqrt(mean_squared_error(y,pred)))\n",
    "print(mean_absolute_error(y,pred))"
   ]
  },
  {
   "cell_type": "code",
   "execution_count": 44,
   "id": "03b8e2d3",
   "metadata": {},
   "outputs": [
    {
     "data": {
      "text/html": [
       "<div>\n",
       "<style scoped>\n",
       "    .dataframe tbody tr th:only-of-type {\n",
       "        vertical-align: middle;\n",
       "    }\n",
       "\n",
       "    .dataframe tbody tr th {\n",
       "        vertical-align: top;\n",
       "    }\n",
       "\n",
       "    .dataframe thead th {\n",
       "        text-align: right;\n",
       "    }\n",
       "</style>\n",
       "<table border=\"1\" class=\"dataframe\">\n",
       "  <thead>\n",
       "    <tr style=\"text-align: right;\">\n",
       "      <th></th>\n",
       "      <th>beds</th>\n",
       "      <th>baths</th>\n",
       "      <th>size</th>\n",
       "      <th>size_units</th>\n",
       "      <th>lot_size</th>\n",
       "      <th>lot_size_units</th>\n",
       "      <th>zip_code</th>\n",
       "      <th>price</th>\n",
       "    </tr>\n",
       "  </thead>\n",
       "  <tbody>\n",
       "    <tr>\n",
       "      <th>0</th>\n",
       "      <td>3</td>\n",
       "      <td>3.0</td>\n",
       "      <td>2850.0</td>\n",
       "      <td>sqft</td>\n",
       "      <td>4200.00</td>\n",
       "      <td>sqft</td>\n",
       "      <td>98119</td>\n",
       "      <td>1175000.0</td>\n",
       "    </tr>\n",
       "    <tr>\n",
       "      <th>1</th>\n",
       "      <td>4</td>\n",
       "      <td>5.0</td>\n",
       "      <td>3040.0</td>\n",
       "      <td>sqft</td>\n",
       "      <td>5002.00</td>\n",
       "      <td>sqft</td>\n",
       "      <td>98106</td>\n",
       "      <td>1057500.0</td>\n",
       "    </tr>\n",
       "    <tr>\n",
       "      <th>2</th>\n",
       "      <td>3</td>\n",
       "      <td>1.0</td>\n",
       "      <td>1290.0</td>\n",
       "      <td>sqft</td>\n",
       "      <td>6048.00</td>\n",
       "      <td>sqft</td>\n",
       "      <td>98125</td>\n",
       "      <td>799000.0</td>\n",
       "    </tr>\n",
       "    <tr>\n",
       "      <th>3</th>\n",
       "      <td>3</td>\n",
       "      <td>2.0</td>\n",
       "      <td>2360.0</td>\n",
       "      <td>sqft</td>\n",
       "      <td>0.28</td>\n",
       "      <td>acre</td>\n",
       "      <td>98188</td>\n",
       "      <td>565000.0</td>\n",
       "    </tr>\n",
       "    <tr>\n",
       "      <th>4</th>\n",
       "      <td>3</td>\n",
       "      <td>3.5</td>\n",
       "      <td>1942.0</td>\n",
       "      <td>sqft</td>\n",
       "      <td>1603.00</td>\n",
       "      <td>sqft</td>\n",
       "      <td>98107</td>\n",
       "      <td>1187000.0</td>\n",
       "    </tr>\n",
       "    <tr>\n",
       "      <th>...</th>\n",
       "      <td>...</td>\n",
       "      <td>...</td>\n",
       "      <td>...</td>\n",
       "      <td>...</td>\n",
       "      <td>...</td>\n",
       "      <td>...</td>\n",
       "      <td>...</td>\n",
       "      <td>...</td>\n",
       "    </tr>\n",
       "    <tr>\n",
       "      <th>500</th>\n",
       "      <td>5</td>\n",
       "      <td>4.5</td>\n",
       "      <td>5580.0</td>\n",
       "      <td>sqft</td>\n",
       "      <td>0.30</td>\n",
       "      <td>acre</td>\n",
       "      <td>98146</td>\n",
       "      <td>3800000.0</td>\n",
       "    </tr>\n",
       "    <tr>\n",
       "      <th>501</th>\n",
       "      <td>3</td>\n",
       "      <td>2.5</td>\n",
       "      <td>1390.0</td>\n",
       "      <td>sqft</td>\n",
       "      <td>1570.00</td>\n",
       "      <td>sqft</td>\n",
       "      <td>98126</td>\n",
       "      <td>575000.0</td>\n",
       "    </tr>\n",
       "    <tr>\n",
       "      <th>502</th>\n",
       "      <td>3</td>\n",
       "      <td>2.5</td>\n",
       "      <td>2950.0</td>\n",
       "      <td>sqft</td>\n",
       "      <td>0.47</td>\n",
       "      <td>acre</td>\n",
       "      <td>98118</td>\n",
       "      <td>3105000.0</td>\n",
       "    </tr>\n",
       "    <tr>\n",
       "      <th>503</th>\n",
       "      <td>5</td>\n",
       "      <td>5.0</td>\n",
       "      <td>3010.0</td>\n",
       "      <td>sqft</td>\n",
       "      <td>4887.00</td>\n",
       "      <td>sqft</td>\n",
       "      <td>98115</td>\n",
       "      <td>1807000.0</td>\n",
       "    </tr>\n",
       "    <tr>\n",
       "      <th>504</th>\n",
       "      <td>3</td>\n",
       "      <td>2.0</td>\n",
       "      <td>1301.0</td>\n",
       "      <td>sqft</td>\n",
       "      <td>3000.00</td>\n",
       "      <td>sqft</td>\n",
       "      <td>98103</td>\n",
       "      <td>895000.0</td>\n",
       "    </tr>\n",
       "  </tbody>\n",
       "</table>\n",
       "<p>505 rows × 8 columns</p>\n",
       "</div>"
      ],
      "text/plain": [
       "     beds  baths    size size_units  lot_size lot_size_units  zip_code  \\\n",
       "0       3    3.0  2850.0       sqft   4200.00           sqft     98119   \n",
       "1       4    5.0  3040.0       sqft   5002.00           sqft     98106   \n",
       "2       3    1.0  1290.0       sqft   6048.00           sqft     98125   \n",
       "3       3    2.0  2360.0       sqft      0.28           acre     98188   \n",
       "4       3    3.5  1942.0       sqft   1603.00           sqft     98107   \n",
       "..    ...    ...     ...        ...       ...            ...       ...   \n",
       "500     5    4.5  5580.0       sqft      0.30           acre     98146   \n",
       "501     3    2.5  1390.0       sqft   1570.00           sqft     98126   \n",
       "502     3    2.5  2950.0       sqft      0.47           acre     98118   \n",
       "503     5    5.0  3010.0       sqft   4887.00           sqft     98115   \n",
       "504     3    2.0  1301.0       sqft   3000.00           sqft     98103   \n",
       "\n",
       "         price  \n",
       "0    1175000.0  \n",
       "1    1057500.0  \n",
       "2     799000.0  \n",
       "3     565000.0  \n",
       "4    1187000.0  \n",
       "..         ...  \n",
       "500  3800000.0  \n",
       "501   575000.0  \n",
       "502  3105000.0  \n",
       "503  1807000.0  \n",
       "504   895000.0  \n",
       "\n",
       "[505 rows x 8 columns]"
      ]
     },
     "execution_count": 44,
     "metadata": {},
     "output_type": "execute_result"
    }
   ],
   "source": [
    "df3 = pd.read_csv(r'dataset/test.csv', parse_dates = True)\n",
    "df3"
   ]
  },
  {
   "cell_type": "code",
   "execution_count": 45,
   "id": "291c2a46",
   "metadata": {},
   "outputs": [],
   "source": [
    "df3['lot_size'] = df3['lot_size'].fillna(6000)\n",
    "\n",
    "df3['lot_size'] = df3.apply(lambda row: row['lot_size'] * 43560 if row['lot_size_units'] == 'acre' else row['lot_size'], axis=1)\n",
    "\n",
    "df3['price'] = df3.apply(lambda x: x['price'] / 100000, axis=1)\n",
    "df3.drop(['size_units','lot_size_units'], axis=1, inplace=True)\n",
    "\n",
    "df3.rename(columns={'size': 'size(in sqft)'}, inplace=True)\n",
    "df3.rename(columns={'lot_size': 'lot_size(in sqft)'}, inplace=True)\n",
    "df3.rename(columns={'price': 'price(in lacs)'}, inplace=True)\n"
   ]
  },
  {
   "cell_type": "code",
   "execution_count": 46,
   "id": "3cfc446b",
   "metadata": {},
   "outputs": [
    {
     "data": {
      "text/html": [
       "<div>\n",
       "<style scoped>\n",
       "    .dataframe tbody tr th:only-of-type {\n",
       "        vertical-align: middle;\n",
       "    }\n",
       "\n",
       "    .dataframe tbody tr th {\n",
       "        vertical-align: top;\n",
       "    }\n",
       "\n",
       "    .dataframe thead th {\n",
       "        text-align: right;\n",
       "    }\n",
       "</style>\n",
       "<table border=\"1\" class=\"dataframe\">\n",
       "  <thead>\n",
       "    <tr style=\"text-align: right;\">\n",
       "      <th></th>\n",
       "      <th>beds</th>\n",
       "      <th>baths</th>\n",
       "      <th>size(in sqft)</th>\n",
       "      <th>lot_size(in sqft)</th>\n",
       "      <th>zip_code</th>\n",
       "      <th>price(in lacs)</th>\n",
       "    </tr>\n",
       "  </thead>\n",
       "  <tbody>\n",
       "    <tr>\n",
       "      <th>0</th>\n",
       "      <td>3</td>\n",
       "      <td>3.0</td>\n",
       "      <td>2850.0</td>\n",
       "      <td>4200.0</td>\n",
       "      <td>98119</td>\n",
       "      <td>11.750</td>\n",
       "    </tr>\n",
       "    <tr>\n",
       "      <th>1</th>\n",
       "      <td>4</td>\n",
       "      <td>5.0</td>\n",
       "      <td>3040.0</td>\n",
       "      <td>5002.0</td>\n",
       "      <td>98106</td>\n",
       "      <td>10.575</td>\n",
       "    </tr>\n",
       "    <tr>\n",
       "      <th>2</th>\n",
       "      <td>3</td>\n",
       "      <td>1.0</td>\n",
       "      <td>1290.0</td>\n",
       "      <td>6048.0</td>\n",
       "      <td>98125</td>\n",
       "      <td>7.990</td>\n",
       "    </tr>\n",
       "    <tr>\n",
       "      <th>3</th>\n",
       "      <td>3</td>\n",
       "      <td>2.0</td>\n",
       "      <td>2360.0</td>\n",
       "      <td>12196.8</td>\n",
       "      <td>98188</td>\n",
       "      <td>5.650</td>\n",
       "    </tr>\n",
       "    <tr>\n",
       "      <th>4</th>\n",
       "      <td>3</td>\n",
       "      <td>3.5</td>\n",
       "      <td>1942.0</td>\n",
       "      <td>1603.0</td>\n",
       "      <td>98107</td>\n",
       "      <td>11.870</td>\n",
       "    </tr>\n",
       "    <tr>\n",
       "      <th>...</th>\n",
       "      <td>...</td>\n",
       "      <td>...</td>\n",
       "      <td>...</td>\n",
       "      <td>...</td>\n",
       "      <td>...</td>\n",
       "      <td>...</td>\n",
       "    </tr>\n",
       "    <tr>\n",
       "      <th>500</th>\n",
       "      <td>5</td>\n",
       "      <td>4.5</td>\n",
       "      <td>5580.0</td>\n",
       "      <td>13068.0</td>\n",
       "      <td>98146</td>\n",
       "      <td>38.000</td>\n",
       "    </tr>\n",
       "    <tr>\n",
       "      <th>501</th>\n",
       "      <td>3</td>\n",
       "      <td>2.5</td>\n",
       "      <td>1390.0</td>\n",
       "      <td>1570.0</td>\n",
       "      <td>98126</td>\n",
       "      <td>5.750</td>\n",
       "    </tr>\n",
       "    <tr>\n",
       "      <th>502</th>\n",
       "      <td>3</td>\n",
       "      <td>2.5</td>\n",
       "      <td>2950.0</td>\n",
       "      <td>20473.2</td>\n",
       "      <td>98118</td>\n",
       "      <td>31.050</td>\n",
       "    </tr>\n",
       "    <tr>\n",
       "      <th>503</th>\n",
       "      <td>5</td>\n",
       "      <td>5.0</td>\n",
       "      <td>3010.0</td>\n",
       "      <td>4887.0</td>\n",
       "      <td>98115</td>\n",
       "      <td>18.070</td>\n",
       "    </tr>\n",
       "    <tr>\n",
       "      <th>504</th>\n",
       "      <td>3</td>\n",
       "      <td>2.0</td>\n",
       "      <td>1301.0</td>\n",
       "      <td>3000.0</td>\n",
       "      <td>98103</td>\n",
       "      <td>8.950</td>\n",
       "    </tr>\n",
       "  </tbody>\n",
       "</table>\n",
       "<p>505 rows × 6 columns</p>\n",
       "</div>"
      ],
      "text/plain": [
       "     beds  baths  size(in sqft)  lot_size(in sqft)  zip_code  price(in lacs)\n",
       "0       3    3.0         2850.0             4200.0     98119          11.750\n",
       "1       4    5.0         3040.0             5002.0     98106          10.575\n",
       "2       3    1.0         1290.0             6048.0     98125           7.990\n",
       "3       3    2.0         2360.0            12196.8     98188           5.650\n",
       "4       3    3.5         1942.0             1603.0     98107          11.870\n",
       "..    ...    ...            ...                ...       ...             ...\n",
       "500     5    4.5         5580.0            13068.0     98146          38.000\n",
       "501     3    2.5         1390.0             1570.0     98126           5.750\n",
       "502     3    2.5         2950.0            20473.2     98118          31.050\n",
       "503     5    5.0         3010.0             4887.0     98115          18.070\n",
       "504     3    2.0         1301.0             3000.0     98103           8.950\n",
       "\n",
       "[505 rows x 6 columns]"
      ]
     },
     "execution_count": 46,
     "metadata": {},
     "output_type": "execute_result"
    }
   ],
   "source": [
    "df3"
   ]
  },
  {
   "cell_type": "code",
   "execution_count": 47,
   "id": "df5e80a3",
   "metadata": {},
   "outputs": [],
   "source": [
    "X_test = df3.iloc[:,:-1]\n",
    "y_test = df3.iloc[:,-1]"
   ]
  },
  {
   "cell_type": "code",
   "execution_count": 48,
   "id": "82c8dbd5",
   "metadata": {},
   "outputs": [
    {
     "data": {
      "text/html": [
       "<div>\n",
       "<style scoped>\n",
       "    .dataframe tbody tr th:only-of-type {\n",
       "        vertical-align: middle;\n",
       "    }\n",
       "\n",
       "    .dataframe tbody tr th {\n",
       "        vertical-align: top;\n",
       "    }\n",
       "\n",
       "    .dataframe thead th {\n",
       "        text-align: right;\n",
       "    }\n",
       "</style>\n",
       "<table border=\"1\" class=\"dataframe\">\n",
       "  <thead>\n",
       "    <tr style=\"text-align: right;\">\n",
       "      <th></th>\n",
       "      <th>beds</th>\n",
       "      <th>baths</th>\n",
       "      <th>size(in sqft)</th>\n",
       "      <th>lot_size(in sqft)</th>\n",
       "      <th>zip_code</th>\n",
       "    </tr>\n",
       "  </thead>\n",
       "  <tbody>\n",
       "    <tr>\n",
       "      <th>0</th>\n",
       "      <td>3</td>\n",
       "      <td>3.0</td>\n",
       "      <td>2850.0</td>\n",
       "      <td>4200.0</td>\n",
       "      <td>98119</td>\n",
       "    </tr>\n",
       "    <tr>\n",
       "      <th>1</th>\n",
       "      <td>4</td>\n",
       "      <td>5.0</td>\n",
       "      <td>3040.0</td>\n",
       "      <td>5002.0</td>\n",
       "      <td>98106</td>\n",
       "    </tr>\n",
       "    <tr>\n",
       "      <th>2</th>\n",
       "      <td>3</td>\n",
       "      <td>1.0</td>\n",
       "      <td>1290.0</td>\n",
       "      <td>6048.0</td>\n",
       "      <td>98125</td>\n",
       "    </tr>\n",
       "    <tr>\n",
       "      <th>3</th>\n",
       "      <td>3</td>\n",
       "      <td>2.0</td>\n",
       "      <td>2360.0</td>\n",
       "      <td>12196.8</td>\n",
       "      <td>98188</td>\n",
       "    </tr>\n",
       "    <tr>\n",
       "      <th>4</th>\n",
       "      <td>3</td>\n",
       "      <td>3.5</td>\n",
       "      <td>1942.0</td>\n",
       "      <td>1603.0</td>\n",
       "      <td>98107</td>\n",
       "    </tr>\n",
       "    <tr>\n",
       "      <th>...</th>\n",
       "      <td>...</td>\n",
       "      <td>...</td>\n",
       "      <td>...</td>\n",
       "      <td>...</td>\n",
       "      <td>...</td>\n",
       "    </tr>\n",
       "    <tr>\n",
       "      <th>500</th>\n",
       "      <td>5</td>\n",
       "      <td>4.5</td>\n",
       "      <td>5580.0</td>\n",
       "      <td>13068.0</td>\n",
       "      <td>98146</td>\n",
       "    </tr>\n",
       "    <tr>\n",
       "      <th>501</th>\n",
       "      <td>3</td>\n",
       "      <td>2.5</td>\n",
       "      <td>1390.0</td>\n",
       "      <td>1570.0</td>\n",
       "      <td>98126</td>\n",
       "    </tr>\n",
       "    <tr>\n",
       "      <th>502</th>\n",
       "      <td>3</td>\n",
       "      <td>2.5</td>\n",
       "      <td>2950.0</td>\n",
       "      <td>20473.2</td>\n",
       "      <td>98118</td>\n",
       "    </tr>\n",
       "    <tr>\n",
       "      <th>503</th>\n",
       "      <td>5</td>\n",
       "      <td>5.0</td>\n",
       "      <td>3010.0</td>\n",
       "      <td>4887.0</td>\n",
       "      <td>98115</td>\n",
       "    </tr>\n",
       "    <tr>\n",
       "      <th>504</th>\n",
       "      <td>3</td>\n",
       "      <td>2.0</td>\n",
       "      <td>1301.0</td>\n",
       "      <td>3000.0</td>\n",
       "      <td>98103</td>\n",
       "    </tr>\n",
       "  </tbody>\n",
       "</table>\n",
       "<p>505 rows × 5 columns</p>\n",
       "</div>"
      ],
      "text/plain": [
       "     beds  baths  size(in sqft)  lot_size(in sqft)  zip_code\n",
       "0       3    3.0         2850.0             4200.0     98119\n",
       "1       4    5.0         3040.0             5002.0     98106\n",
       "2       3    1.0         1290.0             6048.0     98125\n",
       "3       3    2.0         2360.0            12196.8     98188\n",
       "4       3    3.5         1942.0             1603.0     98107\n",
       "..    ...    ...            ...                ...       ...\n",
       "500     5    4.5         5580.0            13068.0     98146\n",
       "501     3    2.5         1390.0             1570.0     98126\n",
       "502     3    2.5         2950.0            20473.2     98118\n",
       "503     5    5.0         3010.0             4887.0     98115\n",
       "504     3    2.0         1301.0             3000.0     98103\n",
       "\n",
       "[505 rows x 5 columns]"
      ]
     },
     "execution_count": 48,
     "metadata": {},
     "output_type": "execute_result"
    }
   ],
   "source": [
    "X_test"
   ]
  },
  {
   "cell_type": "code",
   "execution_count": 49,
   "id": "1ecc88fa",
   "metadata": {},
   "outputs": [
    {
     "data": {
      "text/plain": [
       "0      11.750\n",
       "1      10.575\n",
       "2       7.990\n",
       "3       5.650\n",
       "4      11.870\n",
       "        ...  \n",
       "500    38.000\n",
       "501     5.750\n",
       "502    31.050\n",
       "503    18.070\n",
       "504     8.950\n",
       "Name: price(in lacs), Length: 505, dtype: float64"
      ]
     },
     "execution_count": 49,
     "metadata": {},
     "output_type": "execute_result"
    }
   ],
   "source": [
    "y_test"
   ]
  },
  {
   "cell_type": "code",
   "execution_count": 50,
   "id": "c7112960",
   "metadata": {},
   "outputs": [],
   "source": [
    "X_test = scalar.fit_transform(X_test)"
   ]
  },
  {
   "cell_type": "code",
   "execution_count": 51,
   "id": "ecb75ede",
   "metadata": {},
   "outputs": [],
   "source": [
    "pred_test = lin_reg.predict(X_test)"
   ]
  },
  {
   "cell_type": "code",
   "execution_count": 52,
   "id": "f1af5774",
   "metadata": {},
   "outputs": [
    {
     "data": {
      "text/plain": [
       "array([15.5048598 , 16.99261115,  5.90338098, 10.38606229, 11.37674864,\n",
       "        5.97694249,  5.83112564, 16.41002479,  8.95684997,  4.92147345,\n",
       "        9.38613659,  6.58070088, 12.58033833,  8.159872  ,  4.90161823,\n",
       "       12.81373476, 12.07416466,  8.26653992,  9.27526604, 12.62131456,\n",
       "        6.31444481, 12.85433488,  9.71899153,  5.01735913,  6.41612977,\n",
       "        7.63228499,  6.98819462,  7.27024691,  9.21405075,  4.6328491 ,\n",
       "        5.24728535,  4.85699295, 17.52652871,  4.05819329, 10.97645264,\n",
       "       10.2322181 ,  4.73227057, 11.54269201, 11.60534803, 14.80158254,\n",
       "       15.72331179,  7.41742097, 17.86153098, 11.13520301, 18.67304668,\n",
       "       16.86525303, 11.03996151,  9.68951896, 12.55807259,  6.14376676,\n",
       "        7.52621149,  4.37735962,  5.27314467, 10.2735283 ,  6.15876713,\n",
       "        4.97367689, 12.70712676,  8.37077675,  8.11439699,  8.91993535,\n",
       "        7.10413766,  5.9022786 ,  9.80908204,  8.87062113, 15.94402651,\n",
       "        6.60543238,  6.91384415,  6.71113579,  3.61155885,  7.53003788,\n",
       "       16.12268826,  6.7942187 , 14.8955074 ,  7.65104617,  8.78249791,\n",
       "        6.08523528,  8.49610488,  6.18822758,  9.9257027 ,  9.49101298,\n",
       "       13.27889775, 11.81846487,  5.40577597, 12.45762256,  7.48869634,\n",
       "        8.65124358, 15.19698433, 11.17742941,  8.30208634, 28.16098157,\n",
       "       24.12142269,  8.21577891,  6.15669715, 21.61463145,  6.02692954,\n",
       "        8.30760651,  8.18175966,  8.06061813,  8.85476112,  4.89783724,\n",
       "        7.33424487,  4.52920488,  7.58905905,  7.36681221, 10.19688544,\n",
       "        3.75648411,  5.97442376,  6.03880952,  8.74470264,  4.52306707,\n",
       "        2.56942922,  5.75100594,  6.38605079, 13.61185576, 10.47205414,\n",
       "       13.7835912 , 10.03093434, 13.06725543,  5.03797796,  5.46224239,\n",
       "        8.94479822,  6.81928742, 13.4066637 , 12.9072299 , 14.76382674,\n",
       "       17.80658427,  9.84092412,  4.67802945, 12.12584271, 12.84911446,\n",
       "        8.14368794,  5.44693815, 13.01999432, 13.35020905, 11.49590435,\n",
       "       10.30325315,  9.16247802,  6.52336281,  8.54565753,  5.4748422 ,\n",
       "        9.61094698,  9.10940556, 11.66665735, 19.85708601,  4.48478919,\n",
       "       12.50203196,  7.93649751,  8.04195407,  5.03166342,  9.89988547,\n",
       "       13.57746863,  4.07610085, 15.03084127, 19.58473052,  5.50776974,\n",
       "        4.96517564, 17.85585524,  6.35778495,  5.95055603,  4.58616818,\n",
       "        4.78695553, 12.84453384,  6.61838553,  8.12202784,  8.0047971 ,\n",
       "        6.41604496,  9.21554818,  6.68695809,  8.06360694, 18.24744354,\n",
       "        6.35620527, 15.9507423 , 10.94940672,  5.03166342,  9.5810629 ,\n",
       "        5.77898197, 13.00894395, 14.95358527, 13.00501757, 15.11452935,\n",
       "        5.37240274, 11.54642409, 13.14366391,  8.77931266, 17.78520795,\n",
       "        6.08300353,  7.56925935, 12.20940257,  6.25984857,  7.9909137 ,\n",
       "        4.44470804, 16.30058012,  7.15762923,  3.21622374,  3.89664634,\n",
       "       11.34944946,  5.8663087 ,  1.23053607,  5.29449932,  4.97244288,\n",
       "        9.07734783,  8.02679796,  5.41953724,  9.14657219,  3.94780851,\n",
       "       19.76285844,  8.22976207, 12.75920639,  7.35107065,  6.18657054,\n",
       "       14.82842973, 11.49868966, 10.81718759, 10.29172081,  4.40244565,\n",
       "       12.82825196,  5.08013786,  9.45622259,  9.34445807, 11.2612568 ,\n",
       "       11.4792938 ,  4.07530578,  6.00835283, 10.56269375,  8.90930193,\n",
       "       15.20361415,  5.96627929, 11.52640627,  8.10069066,  8.54830094,\n",
       "        5.45423695, 12.42051858, 17.78490747, 11.09781329,  9.72615215,\n",
       "       10.30753261,  4.48651238, 14.83806171, 14.16140379, 10.09849513,\n",
       "       11.58336502, 12.71946062, 19.31021237, 10.41799344,  7.90056293,\n",
       "       11.18684187, 10.0292395 ,  8.23163327,  7.48580048,  5.24733361,\n",
       "        5.15005523,  6.82329911, 12.62508485,  7.34243978,  8.65462014,\n",
       "       13.50458381,  8.19633716,  8.70879336,  5.7262795 , 22.13571068,\n",
       "       14.33035149,  7.25757997,  6.65749962, 10.84314566,  1.23053607,\n",
       "        6.937414  , 11.54868353,  5.63941696, 13.72180278, 15.30032717,\n",
       "        6.95302527,  7.8170973 , 20.64280936, 21.33543018, 11.18727891,\n",
       "        7.38389021, 11.89081023,  8.77880842,  4.52470601,  9.99238655,\n",
       "       24.81464838,  4.79001279,  5.436205  , 12.34298431,  6.40505706,\n",
       "       10.37590374, 10.48914646, 10.78445259,  9.72814325,  4.80273081,\n",
       "        7.08609868, 17.03338112, 12.56735825,  7.66550106,  9.80106866,\n",
       "        8.76161935,  7.64385964,  5.23938062, 12.89925634,  5.22297948,\n",
       "       10.10730628,  6.29262211,  7.40827802, 10.48171455,  9.33867534,\n",
       "        4.9835362 , 16.12647348, 13.88212679,  6.39550825,  9.11482173,\n",
       "        8.19380901,  6.08981835,  4.8129808 , 13.24071254,  8.64607248,\n",
       "        6.48575671,  8.84204554, 10.78609094,  7.08072446,  2.91114654,\n",
       "        6.88711051, 15.24019714,  4.84935344,  7.14864285, 11.43302616,\n",
       "       16.63796357,  7.07977318,  9.11820077,  7.84961572,  9.55826876,\n",
       "       11.67507639, 11.28237918, 13.71561417,  7.96045799,  8.40658312,\n",
       "       13.03894735,  4.37734242, 12.55086194, 10.45906296,  6.81905838,\n",
       "        8.77751597,  5.41914515, 19.51574961,  7.6024097 ,  9.9101071 ,\n",
       "        8.29114748,  7.30805209,  7.58691341, 13.37646237, 11.7786908 ,\n",
       "        8.00979277,  5.31338447,  5.92457319,  7.04716734,  5.95024619,\n",
       "       10.08587007,  8.14405128, 14.06355238,  8.9315426 ,  9.87648665,\n",
       "        8.21598956,  5.98771492, 15.36904084,  9.0735343 ,  5.0121007 ,\n",
       "        4.55150484, 16.57682388,  5.64089434,  8.383243  , 13.31591317,\n",
       "       13.0224348 , 16.51191755, 11.34404579,  7.64122585, 12.82227312,\n",
       "       25.80409405,  6.46258546,  7.96957197, 10.05577174,  7.45899615,\n",
       "        6.50023239,  5.47931562, 12.17073159,  7.49344149, 12.89169818,\n",
       "       11.00215774,  9.81064259,  9.56765302, 15.93052946,  8.92631225,\n",
       "       11.96586935,  6.54821512,  4.9485932 ,  3.53448119, 12.32816057,\n",
       "       12.52065832, 10.98161473,  8.57343488, 13.29323499,  5.41964225,\n",
       "       11.46711553, 10.53664614, 17.83467199,  5.67575762,  6.26422816,\n",
       "        4.02228257, 13.04690747, 11.18709766,  7.51952102,  5.75718529,\n",
       "        7.65965044,  6.47356058,  5.60558713,  7.77985822, 16.50391135,\n",
       "        5.6192322 ,  6.89097791, 11.10784535, 15.28686546,  6.85599218,\n",
       "        4.76979375, 13.22524208,  4.28356074,  8.68361116,  7.57857599,\n",
       "       10.97797125, 14.9233856 ,  8.62078573, 10.50988558,  6.84514365,\n",
       "       12.17163191, 19.71876263,  5.15002815,  5.87319305, 15.63510224,\n",
       "        7.909544  , 11.79512094,  7.13883889,  8.54586329,  8.94740353,\n",
       "        6.85326492,  8.98859879, 13.62081502,  5.04255076,  9.98597826,\n",
       "        7.68636469,  5.77460817,  9.11090085,  7.77212212, 14.48543947,\n",
       "       18.87110489, 12.78114859, 12.60603873, 15.78757   ,  7.61201102,\n",
       "       14.30459975,  6.59570943,  3.81775572, 12.67181743,  5.02664197,\n",
       "        6.49904542, 15.27029652, 20.7725985 ,  8.40495818,  4.18159175,\n",
       "        4.58568581,  7.42898016,  4.449875  , 14.9624114 , 10.48617515,\n",
       "        9.54500974,  5.51930447,  7.7348716 , 14.5170027 , 14.8905625 ,\n",
       "        9.02818613,  6.99898736,  5.17595143, 12.62905911,  7.3134339 ,\n",
       "        5.87151245, 19.36125232, 10.67204832, 11.05455085, 12.78794548,\n",
       "        5.05818289,  6.89902516, 10.37779395,  7.3031123 ,  6.28176429,\n",
       "        7.55702326,  4.71284066, 11.10142582, 14.36615029,  4.64269136,\n",
       "        4.97217893, 12.09431522,  8.21952369, 27.29057721,  6.47624333,\n",
       "       27.81890226,  7.33806751, 15.69119363, 15.49502879,  7.19127829])"
      ]
     },
     "execution_count": 52,
     "metadata": {},
     "output_type": "execute_result"
    }
   ],
   "source": [
    "pred_test"
   ]
  },
  {
   "cell_type": "code",
   "execution_count": 53,
   "id": "9a9a30a2",
   "metadata": {},
   "outputs": [
    {
     "data": {
      "text/plain": [
       "<matplotlib.collections.PathCollection at 0x1525263ea50>"
      ]
     },
     "execution_count": 53,
     "metadata": {},
     "output_type": "execute_result"
    },
    {
     "data": {
      "image/png": "[encoded data removed]",
      "text/plain": [
       "<Figure size 640x480 with 1 Axes>"
      ]
     },
     "metadata": {},
     "output_type": "display_data"
    }
   ],
   "source": [
    "plt.scatter(pred_test,y_test)\n"
   ]
  },
  {
   "cell_type": "code",
   "execution_count": 54,
   "id": "1161f745",
   "metadata": {},
   "outputs": [],
   "source": [
    "residual_pred = y_test - pred_test"
   ]
  },
  {
   "cell_type": "code",
   "execution_count": 55,
   "id": "a6689249",
   "metadata": {},
   "outputs": [
    {
     "name": "stdout",
     "output_type": "stream",
     "text": [
      "0.1595693965404267\n"
     ]
    }
   ],
   "source": [
    "print(np.mean(residual_pred))"
   ]
  },
  {
   "cell_type": "markdown",
   "id": "6cad0288",
   "metadata": {},
   "source": [
    "PICKLING THE MODEL"
   ]
  },
  {
   "cell_type": "code",
   "execution_count": 56,
   "id": "9d58127c",
   "metadata": {},
   "outputs": [],
   "source": [
    "import pickle"
   ]
  },
  {
   "cell_type": "code",
   "execution_count": 58,
   "id": "5f90ad7c",
   "metadata": {},
   "outputs": [],
   "source": [
    "pickle.dump(lin_reg,open('model.pkl','wb'))"
   ]
  },
  {
   "cell_type": "code",
   "execution_count": 59,
   "id": "9f8e0417",
   "metadata": {},
   "outputs": [],
   "source": [
    "pickled = pickle.load(open('model.pkl','rb'))"
   ]
  },
  {
   "cell_type": "code",
   "execution_count": 60,
   "id": "212f3927",
   "metadata": {},
   "outputs": [
    {
     "data": {
      "text/plain": [
       "array([15.5048598 , 16.99261115,  5.90338098, 10.38606229, 11.37674864,\n",
       "        5.97694249,  5.83112564, 16.41002479,  8.95684997,  4.92147345,\n",
       "        9.38613659,  6.58070088, 12.58033833,  8.159872  ,  4.90161823,\n",
       "       12.81373476, 12.07416466,  8.26653992,  9.27526604, 12.62131456,\n",
       "        6.31444481, 12.85433488,  9.71899153,  5.01735913,  6.41612977,\n",
       "        7.63228499,  6.98819462,  7.27024691,  9.21405075,  4.6328491 ,\n",
       "        5.24728535,  4.85699295, 17.52652871,  4.05819329, 10.97645264,\n",
       "       10.2322181 ,  4.73227057, 11.54269201, 11.60534803, 14.80158254,\n",
       "       15.72331179,  7.41742097, 17.86153098, 11.13520301, 18.67304668,\n",
       "       16.86525303, 11.03996151,  9.68951896, 12.55807259,  6.14376676,\n",
       "        7.52621149,  4.37735962,  5.27314467, 10.2735283 ,  6.15876713,\n",
       "        4.97367689, 12.70712676,  8.37077675,  8.11439699,  8.91993535,\n",
       "        7.10413766,  5.9022786 ,  9.80908204,  8.87062113, 15.94402651,\n",
       "        6.60543238,  6.91384415,  6.71113579,  3.61155885,  7.53003788,\n",
       "       16.12268826,  6.7942187 , 14.8955074 ,  7.65104617,  8.78249791,\n",
       "        6.08523528,  8.49610488,  6.18822758,  9.9257027 ,  9.49101298,\n",
       "       13.27889775, 11.81846487,  5.40577597, 12.45762256,  7.48869634,\n",
       "        8.65124358, 15.19698433, 11.17742941,  8.30208634, 28.16098157,\n",
       "       24.12142269,  8.21577891,  6.15669715, 21.61463145,  6.02692954,\n",
       "        8.30760651,  8.18175966,  8.06061813,  8.85476112,  4.89783724,\n",
       "        7.33424487,  4.52920488,  7.58905905,  7.36681221, 10.19688544,\n",
       "        3.75648411,  5.97442376,  6.03880952,  8.74470264,  4.52306707,\n",
       "        2.56942922,  5.75100594,  6.38605079, 13.61185576, 10.47205414,\n",
       "       13.7835912 , 10.03093434, 13.06725543,  5.03797796,  5.46224239,\n",
       "        8.94479822,  6.81928742, 13.4066637 , 12.9072299 , 14.76382674,\n",
       "       17.80658427,  9.84092412,  4.67802945, 12.12584271, 12.84911446,\n",
       "        8.14368794,  5.44693815, 13.01999432, 13.35020905, 11.49590435,\n",
       "       10.30325315,  9.16247802,  6.52336281,  8.54565753,  5.4748422 ,\n",
       "        9.61094698,  9.10940556, 11.66665735, 19.85708601,  4.48478919,\n",
       "       12.50203196,  7.93649751,  8.04195407,  5.03166342,  9.89988547,\n",
       "       13.57746863,  4.07610085, 15.03084127, 19.58473052,  5.50776974,\n",
       "        4.96517564, 17.85585524,  6.35778495,  5.95055603,  4.58616818,\n",
       "        4.78695553, 12.84453384,  6.61838553,  8.12202784,  8.0047971 ,\n",
       "        6.41604496,  9.21554818,  6.68695809,  8.06360694, 18.24744354,\n",
       "        6.35620527, 15.9507423 , 10.94940672,  5.03166342,  9.5810629 ,\n",
       "        5.77898197, 13.00894395, 14.95358527, 13.00501757, 15.11452935,\n",
       "        5.37240274, 11.54642409, 13.14366391,  8.77931266, 17.78520795,\n",
       "        6.08300353,  7.56925935, 12.20940257,  6.25984857,  7.9909137 ,\n",
       "        4.44470804, 16.30058012,  7.15762923,  3.21622374,  3.89664634,\n",
       "       11.34944946,  5.8663087 ,  1.23053607,  5.29449932,  4.97244288,\n",
       "        9.07734783,  8.02679796,  5.41953724,  9.14657219,  3.94780851,\n",
       "       19.76285844,  8.22976207, 12.75920639,  7.35107065,  6.18657054,\n",
       "       14.82842973, 11.49868966, 10.81718759, 10.29172081,  4.40244565,\n",
       "       12.82825196,  5.08013786,  9.45622259,  9.34445807, 11.2612568 ,\n",
       "       11.4792938 ,  4.07530578,  6.00835283, 10.56269375,  8.90930193,\n",
       "       15.20361415,  5.96627929, 11.52640627,  8.10069066,  8.54830094,\n",
       "        5.45423695, 12.42051858, 17.78490747, 11.09781329,  9.72615215,\n",
       "       10.30753261,  4.48651238, 14.83806171, 14.16140379, 10.09849513,\n",
       "       11.58336502, 12.71946062, 19.31021237, 10.41799344,  7.90056293,\n",
       "       11.18684187, 10.0292395 ,  8.23163327,  7.48580048,  5.24733361,\n",
       "        5.15005523,  6.82329911, 12.62508485,  7.34243978,  8.65462014,\n",
       "       13.50458381,  8.19633716,  8.70879336,  5.7262795 , 22.13571068,\n",
       "       14.33035149,  7.25757997,  6.65749962, 10.84314566,  1.23053607,\n",
       "        6.937414  , 11.54868353,  5.63941696, 13.72180278, 15.30032717,\n",
       "        6.95302527,  7.8170973 , 20.64280936, 21.33543018, 11.18727891,\n",
       "        7.38389021, 11.89081023,  8.77880842,  4.52470601,  9.99238655,\n",
       "       24.81464838,  4.79001279,  5.436205  , 12.34298431,  6.40505706,\n",
       "       10.37590374, 10.48914646, 10.78445259,  9.72814325,  4.80273081,\n",
       "        7.08609868, 17.03338112, 12.56735825,  7.66550106,  9.80106866,\n",
       "        8.76161935,  7.64385964,  5.23938062, 12.89925634,  5.22297948,\n",
       "       10.10730628,  6.29262211,  7.40827802, 10.48171455,  9.33867534,\n",
       "        4.9835362 , 16.12647348, 13.88212679,  6.39550825,  9.11482173,\n",
       "        8.19380901,  6.08981835,  4.8129808 , 13.24071254,  8.64607248,\n",
       "        6.48575671,  8.84204554, 10.78609094,  7.08072446,  2.91114654,\n",
       "        6.88711051, 15.24019714,  4.84935344,  7.14864285, 11.43302616,\n",
       "       16.63796357,  7.07977318,  9.11820077,  7.84961572,  9.55826876,\n",
       "       11.67507639, 11.28237918, 13.71561417,  7.96045799,  8.40658312,\n",
       "       13.03894735,  4.37734242, 12.55086194, 10.45906296,  6.81905838,\n",
       "        8.77751597,  5.41914515, 19.51574961,  7.6024097 ,  9.9101071 ,\n",
       "        8.29114748,  7.30805209,  7.58691341, 13.37646237, 11.7786908 ,\n",
       "        8.00979277,  5.31338447,  5.92457319,  7.04716734,  5.95024619,\n",
       "       10.08587007,  8.14405128, 14.06355238,  8.9315426 ,  9.87648665,\n",
       "        8.21598956,  5.98771492, 15.36904084,  9.0735343 ,  5.0121007 ,\n",
       "        4.55150484, 16.57682388,  5.64089434,  8.383243  , 13.31591317,\n",
       "       13.0224348 , 16.51191755, 11.34404579,  7.64122585, 12.82227312,\n",
       "       25.80409405,  6.46258546,  7.96957197, 10.05577174,  7.45899615,\n",
       "        6.50023239,  5.47931562, 12.17073159,  7.49344149, 12.89169818,\n",
       "       11.00215774,  9.81064259,  9.56765302, 15.93052946,  8.92631225,\n",
       "       11.96586935,  6.54821512,  4.9485932 ,  3.53448119, 12.32816057,\n",
       "       12.52065832, 10.98161473,  8.57343488, 13.29323499,  5.41964225,\n",
       "       11.46711553, 10.53664614, 17.83467199,  5.67575762,  6.26422816,\n",
       "        4.02228257, 13.04690747, 11.18709766,  7.51952102,  5.75718529,\n",
       "        7.65965044,  6.47356058,  5.60558713,  7.77985822, 16.50391135,\n",
       "        5.6192322 ,  6.89097791, 11.10784535, 15.28686546,  6.85599218,\n",
       "        4.76979375, 13.22524208,  4.28356074,  8.68361116,  7.57857599,\n",
       "       10.97797125, 14.9233856 ,  8.62078573, 10.50988558,  6.84514365,\n",
       "       12.17163191, 19.71876263,  5.15002815,  5.87319305, 15.63510224,\n",
       "        7.909544  , 11.79512094,  7.13883889,  8.54586329,  8.94740353,\n",
       "        6.85326492,  8.98859879, 13.62081502,  5.04255076,  9.98597826,\n",
       "        7.68636469,  5.77460817,  9.11090085,  7.77212212, 14.48543947,\n",
       "       18.87110489, 12.78114859, 12.60603873, 15.78757   ,  7.61201102,\n",
       "       14.30459975,  6.59570943,  3.81775572, 12.67181743,  5.02664197,\n",
       "        6.49904542, 15.27029652, 20.7725985 ,  8.40495818,  4.18159175,\n",
       "        4.58568581,  7.42898016,  4.449875  , 14.9624114 , 10.48617515,\n",
       "        9.54500974,  5.51930447,  7.7348716 , 14.5170027 , 14.8905625 ,\n",
       "        9.02818613,  6.99898736,  5.17595143, 12.62905911,  7.3134339 ,\n",
       "        5.87151245, 19.36125232, 10.67204832, 11.05455085, 12.78794548,\n",
       "        5.05818289,  6.89902516, 10.37779395,  7.3031123 ,  6.28176429,\n",
       "        7.55702326,  4.71284066, 11.10142582, 14.36615029,  4.64269136,\n",
       "        4.97217893, 12.09431522,  8.21952369, 27.29057721,  6.47624333,\n",
       "       27.81890226,  7.33806751, 15.69119363, 15.49502879,  7.19127829])"
      ]
     },
     "execution_count": 60,
     "metadata": {},
     "output_type": "execute_result"
    }
   ],
   "source": [
    "pickled.predict(X_test)"
   ]
  },
  {
   "cell_type": "code",
   "execution_count": null,
   "id": "1f90323d",
   "metadata": {},
   "outputs": [],
   "source": []
  }
 ],
 "metadata": {
  "kernelspec": {
   "display_name": "Python 3 (ipykernel)",
   "language": "python",
   "name": "python3"
  },
  "language_info": {
   "codemirror_mode": {
    "name": "ipython",
    "version": 3
   },
   "file_extension": ".py",
   "mimetype": "text/x-python",
   "name": "python",
   "nbconvert_exporter": "python",
   "pygments_lexer": "ipython3",
   "version": "3.11.7"
  }
 },
 "nbformat": 4,
 "nbformat_minor": 5
}
